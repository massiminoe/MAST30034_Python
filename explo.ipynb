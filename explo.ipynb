{
 "cells": [
  {
   "cell_type": "code",
   "execution_count": 13,
   "metadata": {},
   "outputs": [],
   "source": [
    "from pyspark.sql import SparkSession, functions as F"
   ]
  },
  {
   "cell_type": "code",
   "execution_count": 1,
   "metadata": {},
   "outputs": [
    {
     "name": "stderr",
     "output_type": "stream",
     "text": [
      "your 131072x1 screen size is bogus. expect trouble\n",
      "23/08/18 12:44:24 WARN Utils: Your hostname, XMPDSE resolves to a loopback address: 127.0.1.1; using 172.28.209.92 instead (on interface eth0)\n",
      "23/08/18 12:44:24 WARN Utils: Set SPARK_LOCAL_IP if you need to bind to another address\n",
      "Setting default log level to \"WARN\".\n",
      "To adjust logging level use sc.setLogLevel(newLevel). For SparkR, use setLogLevel(newLevel).\n",
      "23/08/18 12:44:26 WARN NativeCodeLoader: Unable to load native-hadoop library for your platform... using builtin-java classes where applicable\n"
     ]
    }
   ],
   "source": [
    "from pyspark.sql import SparkSession\n",
    "\n",
    "spark = (\n",
    "    SparkSession.builder.appName(\"exploration\")\n",
    "    .config(\"spark.sql.repl.eagerEval.enabled\", True) \n",
    "    .config(\"spark.sql.parquet.cacheMetadata\", \"true\")\n",
    "    .config(\"spark.sql.session.timeZone\", \"Etc/UTC\")\n",
    "    .getOrCreate()\n",
    ")"
   ]
  },
  {
   "cell_type": "code",
   "execution_count": 5,
   "metadata": {},
   "outputs": [
    {
     "name": "stdout",
     "output_type": "stream",
     "text": [
      "root\n",
      " |-- VendorID: integer (nullable = true)\n",
      " |-- tpep_pickup_datetime: timestamp_ntz (nullable = true)\n",
      " |-- tpep_dropoff_datetime: timestamp_ntz (nullable = true)\n",
      " |-- passenger_count: long (nullable = true)\n",
      " |-- trip_distance: double (nullable = true)\n",
      " |-- RatecodeID: long (nullable = true)\n",
      " |-- store_and_fwd_flag: string (nullable = true)\n",
      " |-- PULocationID: integer (nullable = true)\n",
      " |-- DOLocationID: integer (nullable = true)\n",
      " |-- payment_type: long (nullable = true)\n",
      " |-- fare_amount: double (nullable = true)\n",
      " |-- extra: double (nullable = true)\n",
      " |-- mta_tax: double (nullable = true)\n",
      " |-- tip_amount: double (nullable = true)\n",
      " |-- tolls_amount: double (nullable = true)\n",
      " |-- improvement_surcharge: double (nullable = true)\n",
      " |-- total_amount: double (nullable = true)\n",
      " |-- congestion_surcharge: double (nullable = true)\n",
      " |-- Airport_fee: double (nullable = true)\n",
      "\n"
     ]
    },
    {
     "name": "stderr",
     "output_type": "stream",
     "text": [
      "                                                                                \r"
     ]
    }
   ],
   "source": [
    "sdf_feb = spark.read.parquet('./data/tlc_data/2023-02.parquet')\n",
    "sdf_feb.printSchema()"
   ]
  },
  {
   "cell_type": "code",
   "execution_count": 6,
   "metadata": {},
   "outputs": [
    {
     "data": {
      "text/plain": [
       "StructType([StructField('VendorID', IntegerType(), True), StructField('tpep_pickup_datetime', TimestampNTZType(), True), StructField('tpep_dropoff_datetime', TimestampNTZType(), True), StructField('passenger_count', LongType(), True), StructField('trip_distance', DoubleType(), True), StructField('RatecodeID', LongType(), True), StructField('store_and_fwd_flag', StringType(), True), StructField('PULocationID', IntegerType(), True), StructField('DOLocationID', IntegerType(), True), StructField('payment_type', LongType(), True), StructField('fare_amount', DoubleType(), True), StructField('extra', DoubleType(), True), StructField('mta_tax', DoubleType(), True), StructField('tip_amount', DoubleType(), True), StructField('tolls_amount', DoubleType(), True), StructField('improvement_surcharge', DoubleType(), True), StructField('total_amount', DoubleType(), True), StructField('congestion_surcharge', DoubleType(), True), StructField('Airport_fee', DoubleType(), True)])"
      ]
     },
     "execution_count": 6,
     "metadata": {},
     "output_type": "execute_result"
    }
   ],
   "source": [
    "sdf_feb.schema"
   ]
  },
  {
   "cell_type": "code",
   "execution_count": 9,
   "metadata": {},
   "outputs": [
    {
     "name": "stderr",
     "output_type": "stream",
     "text": [
      "                                                                                \r"
     ]
    },
    {
     "data": {
      "text/html": [
       "<table border='1'>\n",
       "<tr><th>VendorID</th><th>tpep_pickup_datetime</th><th>tpep_dropoff_datetime</th><th>passenger_count</th><th>trip_distance</th><th>RatecodeID</th><th>store_and_fwd_flag</th><th>PULocationID</th><th>DOLocationID</th><th>payment_type</th><th>fare_amount</th><th>extra</th><th>mta_tax</th><th>tip_amount</th><th>tolls_amount</th><th>improvement_surcharge</th><th>total_amount</th><th>congestion_surcharge</th><th>Airport_fee</th></tr>\n",
       "<tr><td>1</td><td>2023-02-01 00:32:53</td><td>2023-02-01 00:34:34</td><td>2</td><td>0.3</td><td>1</td><td>N</td><td>142</td><td>163</td><td>2</td><td>4.4</td><td>3.5</td><td>0.5</td><td>0.0</td><td>0.0</td><td>1.0</td><td>9.4</td><td>2.5</td><td>0.0</td></tr>\n",
       "<tr><td>2</td><td>2023-02-01 00:35:16</td><td>2023-02-01 00:35:30</td><td>1</td><td>0.0</td><td>1</td><td>N</td><td>71</td><td>71</td><td>4</td><td>-3.0</td><td>-1.0</td><td>-0.5</td><td>0.0</td><td>0.0</td><td>-1.0</td><td>-5.5</td><td>0.0</td><td>0.0</td></tr>\n",
       "<tr><td>2</td><td>2023-02-01 00:35:16</td><td>2023-02-01 00:35:30</td><td>1</td><td>0.0</td><td>1</td><td>N</td><td>71</td><td>71</td><td>4</td><td>3.0</td><td>1.0</td><td>0.5</td><td>0.0</td><td>0.0</td><td>1.0</td><td>5.5</td><td>0.0</td><td>0.0</td></tr>\n",
       "<tr><td>1</td><td>2023-02-01 00:29:33</td><td>2023-02-01 01:01:38</td><td>0</td><td>18.8</td><td>1</td><td>N</td><td>132</td><td>26</td><td>1</td><td>70.9</td><td>2.25</td><td>0.5</td><td>0.0</td><td>0.0</td><td>1.0</td><td>74.65</td><td>0.0</td><td>1.25</td></tr>\n",
       "<tr><td>2</td><td>2023-02-01 00:12:28</td><td>2023-02-01 00:25:46</td><td>1</td><td>3.22</td><td>1</td><td>N</td><td>161</td><td>145</td><td>1</td><td>17.0</td><td>1.0</td><td>0.5</td><td>3.3</td><td>0.0</td><td>1.0</td><td>25.3</td><td>2.5</td><td>0.0</td></tr>\n",
       "</table>\n"
      ],
      "text/plain": [
       "+--------+--------------------+---------------------+---------------+-------------+----------+------------------+------------+------------+------------+-----------+-----+-------+----------+------------+---------------------+------------+--------------------+-----------+\n",
       "|VendorID|tpep_pickup_datetime|tpep_dropoff_datetime|passenger_count|trip_distance|RatecodeID|store_and_fwd_flag|PULocationID|DOLocationID|payment_type|fare_amount|extra|mta_tax|tip_amount|tolls_amount|improvement_surcharge|total_amount|congestion_surcharge|Airport_fee|\n",
       "+--------+--------------------+---------------------+---------------+-------------+----------+------------------+------------+------------+------------+-----------+-----+-------+----------+------------+---------------------+------------+--------------------+-----------+\n",
       "|       1| 2023-02-01 00:32:53|  2023-02-01 00:34:34|              2|          0.3|         1|                 N|         142|         163|           2|        4.4|  3.5|    0.5|       0.0|         0.0|                  1.0|         9.4|                 2.5|        0.0|\n",
       "|       2| 2023-02-01 00:35:16|  2023-02-01 00:35:30|              1|          0.0|         1|                 N|          71|          71|           4|       -3.0| -1.0|   -0.5|       0.0|         0.0|                 -1.0|        -5.5|                 0.0|        0.0|\n",
       "|       2| 2023-02-01 00:35:16|  2023-02-01 00:35:30|              1|          0.0|         1|                 N|          71|          71|           4|        3.0|  1.0|    0.5|       0.0|         0.0|                  1.0|         5.5|                 0.0|        0.0|\n",
       "|       1| 2023-02-01 00:29:33|  2023-02-01 01:01:38|              0|         18.8|         1|                 N|         132|          26|           1|       70.9| 2.25|    0.5|       0.0|         0.0|                  1.0|       74.65|                 0.0|       1.25|\n",
       "|       2| 2023-02-01 00:12:28|  2023-02-01 00:25:46|              1|         3.22|         1|                 N|         161|         145|           1|       17.0|  1.0|    0.5|       3.3|         0.0|                  1.0|        25.3|                 2.5|        0.0|\n",
       "+--------+--------------------+---------------------+---------------+-------------+----------+------------------+------------+------------+------------+-----------+-----+-------+----------+------------+---------------------+------------+--------------------+-----------+"
      ]
     },
     "execution_count": 9,
     "metadata": {},
     "output_type": "execute_result"
    }
   ],
   "source": [
    "sdf = spark.read.schema(sdf_feb.schema).parquet('./data/tlc_data')\n",
    "sdf.limit(5)"
   ]
  },
  {
   "cell_type": "code",
   "execution_count": 29,
   "metadata": {},
   "outputs": [
    {
     "name": "stdout",
     "output_type": "stream",
     "text": [
      "root\n",
      " |-- VendorID: long (nullable = true)\n",
      " |-- tpep_pickup_datetime: timestamp_ntz (nullable = true)\n",
      " |-- tpep_dropoff_datetime: timestamp_ntz (nullable = true)\n",
      " |-- passenger_count: double (nullable = true)\n",
      " |-- trip_distance: double (nullable = true)\n",
      " |-- RatecodeID: double (nullable = true)\n",
      " |-- store_and_fwd_flag: string (nullable = true)\n",
      " |-- PULocationID: long (nullable = true)\n",
      " |-- DOLocationID: long (nullable = true)\n",
      " |-- payment_type: long (nullable = true)\n",
      " |-- fare_amount: double (nullable = true)\n",
      " |-- extra: double (nullable = true)\n",
      " |-- mta_tax: double (nullable = true)\n",
      " |-- tip_amount: double (nullable = true)\n",
      " |-- tolls_amount: double (nullable = true)\n",
      " |-- improvement_surcharge: double (nullable = true)\n",
      " |-- total_amount: double (nullable = true)\n",
      " |-- congestion_surcharge: double (nullable = true)\n",
      " |-- airport_fee: double (nullable = true)\n",
      "\n"
     ]
    }
   ],
   "source": [
    "sdf_jan = spark.read.parquet('./data/tlc_data/2023-01.parquet')\n",
    "sdf_jan.printSchema()"
   ]
  },
  {
   "cell_type": "code",
   "execution_count": 30,
   "metadata": {},
   "outputs": [
    {
     "name": "stderr",
     "output_type": "stream",
     "text": [
      "                                                                                \r"
     ]
    },
    {
     "data": {
      "text/html": [
       "<table border='1'>\n",
       "<tr><th>summary</th><th>VendorID</th><th>passenger_count</th><th>trip_distance</th><th>RatecodeID</th><th>store_and_fwd_flag</th><th>PULocationID</th><th>DOLocationID</th><th>payment_type</th><th>fare_amount</th><th>extra</th><th>mta_tax</th><th>tip_amount</th><th>tolls_amount</th><th>improvement_surcharge</th><th>total_amount</th><th>congestion_surcharge</th><th>airport_fee</th></tr>\n",
       "<tr><td>count</td><td>3066766</td><td>2995023</td><td>3066766</td><td>2995023</td><td>2995023</td><td>3066766</td><td>3066766</td><td>3066766</td><td>3066766</td><td>3066766</td><td>3066766</td><td>3066766</td><td>3066766</td><td>3066766</td><td>3066766</td><td>2995023</td><td>2995023</td></tr>\n",
       "<tr><td>mean</td><td>1.7302151517266071</td><td>1.3625321074328978</td><td>3.8473420306601414</td><td>1.4974395856058536</td><td>null</td><td>166.3980460198137</td><td>164.39263086913056</td><td>1.1944833743428744</td><td>18.36706861234247</td><td>1.5378415633928424</td><td>0.48828997712900507</td><td>3.3679406710526827</td><td>0.5184906575871795</td><td>0.9820846781266913</td><td>27.02038310708492</td><td>2.274231283031883</td><td>0.10740860754658646</td></tr>\n",
       "<tr><td>stddev</td><td>0.44384800118157797</td><td>0.8961199745510026</td><td>249.58375606858166</td><td>6.4747666839879425</td><td>null</td><td>64.24413065645832</td><td>69.94368150696633</td><td>0.5294761792163214</td><td>17.807821939337924</td><td>1.789592470206075</td><td>0.10346409961657094</td><td>3.826759457294151</td><td>2.0175790257044635</td><td>0.18335286613747784</td><td>22.163588952492184</td><td>0.771845410867694</td><td>0.3556511325197914</td></tr>\n",
       "<tr><td>min</td><td>1</td><td>0.0</td><td>0.0</td><td>1.0</td><td>N</td><td>1</td><td>1</td><td>0</td><td>-900.0</td><td>-7.5</td><td>-0.5</td><td>-96.22</td><td>-65.0</td><td>-1.0</td><td>-751.0</td><td>-2.5</td><td>-1.25</td></tr>\n",
       "<tr><td>max</td><td>2</td><td>9.0</td><td>258928.15</td><td>99.0</td><td>Y</td><td>265</td><td>265</td><td>4</td><td>1160.1</td><td>12.5</td><td>53.16</td><td>380.8</td><td>196.99</td><td>1.0</td><td>1169.4</td><td>2.5</td><td>1.25</td></tr>\n",
       "</table>\n"
      ],
      "text/plain": [
       "+-------+-------------------+------------------+------------------+------------------+------------------+-----------------+------------------+------------------+------------------+------------------+-------------------+------------------+------------------+---------------------+------------------+--------------------+-------------------+\n",
       "|summary|           VendorID|   passenger_count|     trip_distance|        RatecodeID|store_and_fwd_flag|     PULocationID|      DOLocationID|      payment_type|       fare_amount|             extra|            mta_tax|        tip_amount|      tolls_amount|improvement_surcharge|      total_amount|congestion_surcharge|        airport_fee|\n",
       "+-------+-------------------+------------------+------------------+------------------+------------------+-----------------+------------------+------------------+------------------+------------------+-------------------+------------------+------------------+---------------------+------------------+--------------------+-------------------+\n",
       "|  count|            3066766|           2995023|           3066766|           2995023|           2995023|          3066766|           3066766|           3066766|           3066766|           3066766|            3066766|           3066766|           3066766|              3066766|           3066766|             2995023|            2995023|\n",
       "|   mean| 1.7302151517266071|1.3625321074328978|3.8473420306601414|1.4974395856058536|              null|166.3980460198137|164.39263086913056|1.1944833743428744| 18.36706861234247|1.5378415633928424|0.48828997712900507|3.3679406710526827|0.5184906575871795|   0.9820846781266913| 27.02038310708492|   2.274231283031883|0.10740860754658646|\n",
       "| stddev|0.44384800118157797|0.8961199745510026|249.58375606858166|6.4747666839879425|              null|64.24413065645832| 69.94368150696633|0.5294761792163214|17.807821939337924| 1.789592470206075|0.10346409961657094| 3.826759457294151|2.0175790257044635|  0.18335286613747784|22.163588952492184|   0.771845410867694| 0.3556511325197914|\n",
       "|    min|                  1|               0.0|               0.0|               1.0|                 N|                1|                 1|                 0|            -900.0|              -7.5|               -0.5|            -96.22|             -65.0|                 -1.0|            -751.0|                -2.5|              -1.25|\n",
       "|    max|                  2|               9.0|         258928.15|              99.0|                 Y|              265|               265|                 4|            1160.1|              12.5|              53.16|             380.8|            196.99|                  1.0|            1169.4|                 2.5|               1.25|\n",
       "+-------+-------------------+------------------+------------------+------------------+------------------+-----------------+------------------+------------------+------------------+------------------+-------------------+------------------+------------------+---------------------+------------------+--------------------+-------------------+"
      ]
     },
     "execution_count": 30,
     "metadata": {},
     "output_type": "execute_result"
    }
   ],
   "source": [
    "sdf_jan.withColumn(\"VendorID\", F.col(\"VendorID\").cast(\"int\")).describe()"
   ]
  },
  {
   "cell_type": "code",
   "execution_count": 32,
   "metadata": {},
   "outputs": [],
   "source": [
    "sdf_jan = sdf_jan.withColumn(\"VendorID\", F.col(\"VendorID\").cast(\"int\"))"
   ]
  },
  {
   "cell_type": "code",
   "execution_count": 35,
   "metadata": {},
   "outputs": [
    {
     "name": "stderr",
     "output_type": "stream",
     "text": [
      "                                                                                \r"
     ]
    }
   ],
   "source": [
    "sdf_jan.write.mode('overwrite').parquet(\"./explo_data/2023-01.parquet\")"
   ]
  },
  {
   "cell_type": "code",
   "execution_count": 51,
   "metadata": {},
   "outputs": [
    {
     "name": "stderr",
     "output_type": "stream",
     "text": [
      "                                                                                \r"
     ]
    }
   ],
   "source": [
    "sdf_jan = spark.read.parquet('./data/tlc_data/2023-01.parquet')\n",
    "sdf_jan = sdf_jan.select([F.col(c).cast(sdf_feb.schema[i].dataType) for i, c in enumerate(sdf_jan.columns)])\n",
    "sdf_jan.write.mode('overwrite').parquet(\"./explo_data/2023-01.parquet\")"
   ]
  },
  {
   "cell_type": "code",
   "execution_count": 48,
   "metadata": {},
   "outputs": [
    {
     "name": "stdout",
     "output_type": "stream",
     "text": [
      "root\n",
      " |-- VendorID: integer (nullable = true)\n",
      " |-- tpep_pickup_datetime: timestamp_ntz (nullable = true)\n",
      " |-- tpep_dropoff_datetime: timestamp_ntz (nullable = true)\n",
      " |-- passenger_count: long (nullable = true)\n",
      " |-- trip_distance: double (nullable = true)\n",
      " |-- RatecodeID: long (nullable = true)\n",
      " |-- store_and_fwd_flag: string (nullable = true)\n",
      " |-- PULocationID: integer (nullable = true)\n",
      " |-- DOLocationID: integer (nullable = true)\n",
      " |-- payment_type: long (nullable = true)\n",
      " |-- fare_amount: double (nullable = true)\n",
      " |-- extra: double (nullable = true)\n",
      " |-- mta_tax: double (nullable = true)\n",
      " |-- tip_amount: double (nullable = true)\n",
      " |-- tolls_amount: double (nullable = true)\n",
      " |-- improvement_surcharge: double (nullable = true)\n",
      " |-- total_amount: double (nullable = true)\n",
      " |-- congestion_surcharge: double (nullable = true)\n",
      " |-- Airport_fee: double (nullable = true)\n",
      "\n"
     ]
    }
   ],
   "source": [
    "sdf_feb = spark.read.parquet('./data/tlc_data/2023-02.parquet')\n",
    "sdf_feb = sdf_feb.select([F.col(c).cast(sdf_feb.schema[i].dataType) for i, c in enumerate(sdf_feb.columns)])\n",
    "sdf_feb.printSchema()\n",
    "# sdf_feb.write.mode('overwrite').parquet(\"./explo_data/2023-02.parquet\")"
   ]
  },
  {
   "cell_type": "code",
   "execution_count": 52,
   "metadata": {},
   "outputs": [
    {
     "name": "stderr",
     "output_type": "stream",
     "text": [
      "                                                                                \r"
     ]
    }
   ],
   "source": [
    "sdf_mar = spark.read.parquet('./data/tlc_data/2023-03.parquet')\n",
    "sdf_mar = sdf_mar.select([F.col(c).cast(sdf_feb.schema[i].dataType) for i, c in enumerate(sdf_mar.columns)])\n",
    "sdf_mar.write.mode('overwrite').parquet(\"./explo_data/2023-03.parquet\")"
   ]
  },
  {
   "cell_type": "code",
   "execution_count": 53,
   "metadata": {},
   "outputs": [
    {
     "data": {
      "text/html": [
       "<table border='1'>\n",
       "<tr><th>VendorID</th><th>tpep_pickup_datetime</th><th>tpep_dropoff_datetime</th><th>passenger_count</th><th>trip_distance</th><th>RatecodeID</th><th>store_and_fwd_flag</th><th>PULocationID</th><th>DOLocationID</th><th>payment_type</th><th>fare_amount</th><th>extra</th><th>mta_tax</th><th>tip_amount</th><th>tolls_amount</th><th>improvement_surcharge</th><th>total_amount</th><th>congestion_surcharge</th><th>airport_fee</th></tr>\n",
       "<tr><td>2</td><td>2023-01-01 00:32:10</td><td>2023-01-01 00:40:36</td><td>1</td><td>0.97</td><td>1</td><td>N</td><td>161</td><td>141</td><td>2</td><td>9.3</td><td>1.0</td><td>0.5</td><td>0.0</td><td>0.0</td><td>1.0</td><td>14.3</td><td>2.5</td><td>0.0</td></tr>\n",
       "<tr><td>2</td><td>2023-01-01 00:55:08</td><td>2023-01-01 01:01:27</td><td>1</td><td>1.1</td><td>1</td><td>N</td><td>43</td><td>237</td><td>1</td><td>7.9</td><td>1.0</td><td>0.5</td><td>4.0</td><td>0.0</td><td>1.0</td><td>16.9</td><td>2.5</td><td>0.0</td></tr>\n",
       "<tr><td>2</td><td>2023-01-01 00:25:04</td><td>2023-01-01 00:37:49</td><td>1</td><td>2.51</td><td>1</td><td>N</td><td>48</td><td>238</td><td>1</td><td>14.9</td><td>1.0</td><td>0.5</td><td>15.0</td><td>0.0</td><td>1.0</td><td>34.9</td><td>2.5</td><td>0.0</td></tr>\n",
       "<tr><td>1</td><td>2023-01-01 00:03:48</td><td>2023-01-01 00:13:25</td><td>0</td><td>1.9</td><td>1</td><td>N</td><td>138</td><td>7</td><td>1</td><td>12.1</td><td>7.25</td><td>0.5</td><td>0.0</td><td>0.0</td><td>1.0</td><td>20.85</td><td>0.0</td><td>1.25</td></tr>\n",
       "<tr><td>2</td><td>2023-01-01 00:10:29</td><td>2023-01-01 00:21:19</td><td>1</td><td>1.43</td><td>1</td><td>N</td><td>107</td><td>79</td><td>1</td><td>11.4</td><td>1.0</td><td>0.5</td><td>3.28</td><td>0.0</td><td>1.0</td><td>19.68</td><td>2.5</td><td>0.0</td></tr>\n",
       "</table>\n"
      ],
      "text/plain": [
       "+--------+--------------------+---------------------+---------------+-------------+----------+------------------+------------+------------+------------+-----------+-----+-------+----------+------------+---------------------+------------+--------------------+-----------+\n",
       "|VendorID|tpep_pickup_datetime|tpep_dropoff_datetime|passenger_count|trip_distance|RatecodeID|store_and_fwd_flag|PULocationID|DOLocationID|payment_type|fare_amount|extra|mta_tax|tip_amount|tolls_amount|improvement_surcharge|total_amount|congestion_surcharge|airport_fee|\n",
       "+--------+--------------------+---------------------+---------------+-------------+----------+------------------+------------+------------+------------+-----------+-----+-------+----------+------------+---------------------+------------+--------------------+-----------+\n",
       "|       2| 2023-01-01 00:32:10|  2023-01-01 00:40:36|              1|         0.97|         1|                 N|         161|         141|           2|        9.3|  1.0|    0.5|       0.0|         0.0|                  1.0|        14.3|                 2.5|        0.0|\n",
       "|       2| 2023-01-01 00:55:08|  2023-01-01 01:01:27|              1|          1.1|         1|                 N|          43|         237|           1|        7.9|  1.0|    0.5|       4.0|         0.0|                  1.0|        16.9|                 2.5|        0.0|\n",
       "|       2| 2023-01-01 00:25:04|  2023-01-01 00:37:49|              1|         2.51|         1|                 N|          48|         238|           1|       14.9|  1.0|    0.5|      15.0|         0.0|                  1.0|        34.9|                 2.5|        0.0|\n",
       "|       1| 2023-01-01 00:03:48|  2023-01-01 00:13:25|              0|          1.9|         1|                 N|         138|           7|           1|       12.1| 7.25|    0.5|       0.0|         0.0|                  1.0|       20.85|                 0.0|       1.25|\n",
       "|       2| 2023-01-01 00:10:29|  2023-01-01 00:21:19|              1|         1.43|         1|                 N|         107|          79|           1|       11.4|  1.0|    0.5|      3.28|         0.0|                  1.0|       19.68|                 2.5|        0.0|\n",
       "+--------+--------------------+---------------------+---------------+-------------+----------+------------------+------------+------------+------------+-----------+-----+-------+----------+------------+---------------------+------------+--------------------+-----------+"
      ]
     },
     "execution_count": 53,
     "metadata": {},
     "output_type": "execute_result"
    }
   ],
   "source": [
    "sdf = spark.read.parquet('./explo_data/*')\n",
    "# sdf = spark.read.schema(sdf_feb.schema).parquet('./explo_data/*')\n",
    "sdf.limit(5)"
   ]
  },
  {
   "cell_type": "code",
   "execution_count": 54,
   "metadata": {},
   "outputs": [],
   "source": [
    "sdf.createOrReplaceTempView('taxi')"
   ]
  },
  {
   "cell_type": "code",
   "execution_count": 59,
   "metadata": {},
   "outputs": [
    {
     "data": {
      "text/html": [
       "<table border='1'>\n",
       "<tr><th>payment_type</th><th>min(tip_amount)</th><th>mean(tip_amount)</th><th>max(tip_amount)</th><th>count(1)</th></tr>\n",
       "<tr><td>0</td><td>-10.76</td><td>3.587881013976738</td><td>48.7</td><td>236179</td></tr>\n",
       "<tr><td>1</td><td>-80.0</td><td>4.2144075136933505</td><td>984.3</td><td>7410897</td></tr>\n",
       "<tr><td>2</td><td>0.0</td><td>0.001823386431427...</td><td>85.2</td><td>1575700</td></tr>\n",
       "<tr><td>3</td><td>-80.0</td><td>0.017196527284384904</td><td>270.3</td><td>57707</td></tr>\n",
       "<tr><td>4</td><td>-96.22</td><td>0.04899454823418555</td><td>99.88</td><td>104003</td></tr>\n",
       "<tr><td>5</td><td>0.0</td><td>0.0</td><td>0.0</td><td>1</td></tr>\n",
       "</table>\n"
      ],
      "text/plain": [
       "+------------+---------------+--------------------+---------------+--------+\n",
       "|payment_type|min(tip_amount)|    mean(tip_amount)|max(tip_amount)|count(1)|\n",
       "+------------+---------------+--------------------+---------------+--------+\n",
       "|           0|         -10.76|   3.587881013976738|           48.7|  236179|\n",
       "|           1|          -80.0|  4.2144075136933505|          984.3| 7410897|\n",
       "|           2|            0.0|0.001823386431427...|           85.2| 1575700|\n",
       "|           3|          -80.0|0.017196527284384904|          270.3|   57707|\n",
       "|           4|         -96.22| 0.04899454823418555|          99.88|  104003|\n",
       "|           5|            0.0|                 0.0|            0.0|       1|\n",
       "+------------+---------------+--------------------+---------------+--------+"
      ]
     },
     "execution_count": 59,
     "metadata": {},
     "output_type": "execute_result"
    }
   ],
   "source": [
    "spark.sql(\"\"\"\n",
    "select payment_type, min(tip_amount), mean(tip_amount), max(tip_amount), count(*)\n",
    "from taxi\n",
    "group by payment_type\n",
    "order by payment_type\n",
    "\"\"\")"
   ]
  },
  {
   "cell_type": "code",
   "execution_count": 98,
   "metadata": {},
   "outputs": [
    {
     "name": "stderr",
     "output_type": "stream",
     "text": [
      "                                                                                \r"
     ]
    }
   ],
   "source": [
    "aggs = spark.sql(\"\"\"\n",
    "select PULocationID, mean(total_amount / datediff(minute, tpep_pickup_datetime, tpep_dropoff_datetime)), count(*)\n",
    "from taxi\n",
    "where payment_type = 1\n",
    "group by PULocationID\n",
    "order by 2 desc\n",
    "\"\"\").collect()"
   ]
  },
  {
   "cell_type": "code",
   "execution_count": 99,
   "metadata": {},
   "outputs": [
    {
     "data": {
      "text/html": [
       "<div>\n",
       "<style scoped>\n",
       "    .dataframe tbody tr th:only-of-type {\n",
       "        vertical-align: middle;\n",
       "    }\n",
       "\n",
       "    .dataframe tbody tr th {\n",
       "        vertical-align: top;\n",
       "    }\n",
       "\n",
       "    .dataframe thead th {\n",
       "        text-align: right;\n",
       "    }\n",
       "</style>\n",
       "<table border=\"1\" class=\"dataframe\">\n",
       "  <thead>\n",
       "    <tr style=\"text-align: right;\">\n",
       "      <th></th>\n",
       "      <th>PULocationID</th>\n",
       "      <th>dollars_per_min</th>\n",
       "      <th>total_trips</th>\n",
       "    </tr>\n",
       "  </thead>\n",
       "  <tbody>\n",
       "    <tr>\n",
       "      <th>0</th>\n",
       "      <td>1</td>\n",
       "      <td>66.732355</td>\n",
       "      <td>1010</td>\n",
       "    </tr>\n",
       "    <tr>\n",
       "      <th>1</th>\n",
       "      <td>265</td>\n",
       "      <td>42.760701</td>\n",
       "      <td>3469</td>\n",
       "    </tr>\n",
       "    <tr>\n",
       "      <th>2</th>\n",
       "      <td>204</td>\n",
       "      <td>32.760939</td>\n",
       "      <td>5</td>\n",
       "    </tr>\n",
       "    <tr>\n",
       "      <th>3</th>\n",
       "      <td>109</td>\n",
       "      <td>12.725407</td>\n",
       "      <td>8</td>\n",
       "    </tr>\n",
       "    <tr>\n",
       "      <th>4</th>\n",
       "      <td>115</td>\n",
       "      <td>12.139366</td>\n",
       "      <td>7</td>\n",
       "    </tr>\n",
       "    <tr>\n",
       "      <th>...</th>\n",
       "      <td>...</td>\n",
       "      <td>...</td>\n",
       "      <td>...</td>\n",
       "    </tr>\n",
       "    <tr>\n",
       "      <th>255</th>\n",
       "      <td>85</td>\n",
       "      <td>1.113019</td>\n",
       "      <td>210</td>\n",
       "    </tr>\n",
       "    <tr>\n",
       "      <th>256</th>\n",
       "      <td>77</td>\n",
       "      <td>1.099692</td>\n",
       "      <td>201</td>\n",
       "    </tr>\n",
       "    <tr>\n",
       "      <th>257</th>\n",
       "      <td>71</td>\n",
       "      <td>1.033525</td>\n",
       "      <td>402</td>\n",
       "    </tr>\n",
       "    <tr>\n",
       "      <th>258</th>\n",
       "      <td>58</td>\n",
       "      <td>0.891099</td>\n",
       "      <td>5</td>\n",
       "    </tr>\n",
       "    <tr>\n",
       "      <th>259</th>\n",
       "      <td>59</td>\n",
       "      <td>0.826379</td>\n",
       "      <td>2</td>\n",
       "    </tr>\n",
       "  </tbody>\n",
       "</table>\n",
       "<p>260 rows × 3 columns</p>\n",
       "</div>"
      ],
      "text/plain": [
       "     PULocationID  dollars_per_min  total_trips\n",
       "0               1        66.732355         1010\n",
       "1             265        42.760701         3469\n",
       "2             204        32.760939            5\n",
       "3             109        12.725407            8\n",
       "4             115        12.139366            7\n",
       "..            ...              ...          ...\n",
       "255            85         1.113019          210\n",
       "256            77         1.099692          201\n",
       "257            71         1.033525          402\n",
       "258            58         0.891099            5\n",
       "259            59         0.826379            2\n",
       "\n",
       "[260 rows x 3 columns]"
      ]
     },
     "execution_count": 99,
     "metadata": {},
     "output_type": "execute_result"
    }
   ],
   "source": [
    "import pandas as pd\n",
    "df = pd.DataFrame.from_dict(aggs)\n",
    "df = df.rename(columns={0: 'PULocationID', 1: 'dollars_per_min', 2: 'total_trips'})\n",
    "df"
   ]
  },
  {
   "cell_type": "code",
   "execution_count": 100,
   "metadata": {},
   "outputs": [],
   "source": [
    "import matplotlib.pyplot as plt"
   ]
  },
  {
   "cell_type": "code",
   "execution_count": 101,
   "metadata": {},
   "outputs": [
    {
     "data": {
      "text/html": [
       "<div>\n",
       "<style scoped>\n",
       "    .dataframe tbody tr th:only-of-type {\n",
       "        vertical-align: middle;\n",
       "    }\n",
       "\n",
       "    .dataframe tbody tr th {\n",
       "        vertical-align: top;\n",
       "    }\n",
       "\n",
       "    .dataframe thead th {\n",
       "        text-align: right;\n",
       "    }\n",
       "</style>\n",
       "<table border=\"1\" class=\"dataframe\">\n",
       "  <thead>\n",
       "    <tr style=\"text-align: right;\">\n",
       "      <th></th>\n",
       "      <th>PULocationID</th>\n",
       "      <th>dollars_per_min</th>\n",
       "      <th>total_trips</th>\n",
       "    </tr>\n",
       "  </thead>\n",
       "  <tbody>\n",
       "    <tr>\n",
       "      <th>count</th>\n",
       "      <td>260.000000</td>\n",
       "      <td>260.000000</td>\n",
       "      <td>260.000000</td>\n",
       "    </tr>\n",
       "    <tr>\n",
       "      <th>mean</th>\n",
       "      <td>133.553846</td>\n",
       "      <td>2.816041</td>\n",
       "      <td>28503.450000</td>\n",
       "    </tr>\n",
       "    <tr>\n",
       "      <th>std</th>\n",
       "      <td>77.272277</td>\n",
       "      <td>5.240217</td>\n",
       "      <td>69187.776712</td>\n",
       "    </tr>\n",
       "    <tr>\n",
       "      <th>min</th>\n",
       "      <td>1.000000</td>\n",
       "      <td>0.826379</td>\n",
       "      <td>2.000000</td>\n",
       "    </tr>\n",
       "    <tr>\n",
       "      <th>25%</th>\n",
       "      <td>65.750000</td>\n",
       "      <td>1.562903</td>\n",
       "      <td>133.750000</td>\n",
       "    </tr>\n",
       "    <tr>\n",
       "      <th>50%</th>\n",
       "      <td>135.500000</td>\n",
       "      <td>2.086156</td>\n",
       "      <td>398.500000</td>\n",
       "    </tr>\n",
       "    <tr>\n",
       "      <th>75%</th>\n",
       "      <td>200.250000</td>\n",
       "      <td>2.438382</td>\n",
       "      <td>2750.250000</td>\n",
       "    </tr>\n",
       "    <tr>\n",
       "      <th>max</th>\n",
       "      <td>265.000000</td>\n",
       "      <td>66.732355</td>\n",
       "      <td>352312.000000</td>\n",
       "    </tr>\n",
       "  </tbody>\n",
       "</table>\n",
       "</div>"
      ],
      "text/plain": [
       "       PULocationID  dollars_per_min    total_trips\n",
       "count    260.000000       260.000000     260.000000\n",
       "mean     133.553846         2.816041   28503.450000\n",
       "std       77.272277         5.240217   69187.776712\n",
       "min        1.000000         0.826379       2.000000\n",
       "25%       65.750000         1.562903     133.750000\n",
       "50%      135.500000         2.086156     398.500000\n",
       "75%      200.250000         2.438382    2750.250000\n",
       "max      265.000000        66.732355  352312.000000"
      ]
     },
     "execution_count": 101,
     "metadata": {},
     "output_type": "execute_result"
    }
   ],
   "source": [
    "df.describe()"
   ]
  },
  {
   "cell_type": "code",
   "execution_count": 102,
   "metadata": {},
   "outputs": [
    {
     "data": {
      "text/html": [
       "<div>\n",
       "<style scoped>\n",
       "    .dataframe tbody tr th:only-of-type {\n",
       "        vertical-align: middle;\n",
       "    }\n",
       "\n",
       "    .dataframe tbody tr th {\n",
       "        vertical-align: top;\n",
       "    }\n",
       "\n",
       "    .dataframe thead th {\n",
       "        text-align: right;\n",
       "    }\n",
       "</style>\n",
       "<table border=\"1\" class=\"dataframe\">\n",
       "  <thead>\n",
       "    <tr style=\"text-align: right;\">\n",
       "      <th></th>\n",
       "      <th>PULocationID</th>\n",
       "      <th>dollars_per_min</th>\n",
       "      <th>total_trips</th>\n",
       "    </tr>\n",
       "  </thead>\n",
       "  <tbody>\n",
       "    <tr>\n",
       "      <th>46</th>\n",
       "      <td>263</td>\n",
       "      <td>2.731886</td>\n",
       "      <td>154286</td>\n",
       "    </tr>\n",
       "    <tr>\n",
       "      <th>47</th>\n",
       "      <td>138</td>\n",
       "      <td>2.725654</td>\n",
       "      <td>242189</td>\n",
       "    </tr>\n",
       "    <tr>\n",
       "      <th>55</th>\n",
       "      <td>70</td>\n",
       "      <td>2.586280</td>\n",
       "      <td>32868</td>\n",
       "    </tr>\n",
       "    <tr>\n",
       "      <th>56</th>\n",
       "      <td>141</td>\n",
       "      <td>2.574687</td>\n",
       "      <td>190324</td>\n",
       "    </tr>\n",
       "    <tr>\n",
       "      <th>60</th>\n",
       "      <td>262</td>\n",
       "      <td>2.504176</td>\n",
       "      <td>101625</td>\n",
       "    </tr>\n",
       "    <tr>\n",
       "      <th>61</th>\n",
       "      <td>239</td>\n",
       "      <td>2.487204</td>\n",
       "      <td>211514</td>\n",
       "    </tr>\n",
       "    <tr>\n",
       "      <th>62</th>\n",
       "      <td>238</td>\n",
       "      <td>2.478959</td>\n",
       "      <td>148537</td>\n",
       "    </tr>\n",
       "    <tr>\n",
       "      <th>63</th>\n",
       "      <td>50</td>\n",
       "      <td>2.477216</td>\n",
       "      <td>42300</td>\n",
       "    </tr>\n",
       "    <tr>\n",
       "      <th>64</th>\n",
       "      <td>237</td>\n",
       "      <td>2.448523</td>\n",
       "      <td>352312</td>\n",
       "    </tr>\n",
       "    <tr>\n",
       "      <th>65</th>\n",
       "      <td>236</td>\n",
       "      <td>2.435001</td>\n",
       "      <td>329612</td>\n",
       "    </tr>\n",
       "    <tr>\n",
       "      <th>68</th>\n",
       "      <td>48</td>\n",
       "      <td>2.415518</td>\n",
       "      <td>195794</td>\n",
       "    </tr>\n",
       "    <tr>\n",
       "      <th>69</th>\n",
       "      <td>143</td>\n",
       "      <td>2.414015</td>\n",
       "      <td>82351</td>\n",
       "    </tr>\n",
       "    <tr>\n",
       "      <th>70</th>\n",
       "      <td>132</td>\n",
       "      <td>2.401894</td>\n",
       "      <td>322593</td>\n",
       "    </tr>\n",
       "    <tr>\n",
       "      <th>73</th>\n",
       "      <td>140</td>\n",
       "      <td>2.391793</td>\n",
       "      <td>157485</td>\n",
       "    </tr>\n",
       "    <tr>\n",
       "      <th>74</th>\n",
       "      <td>137</td>\n",
       "      <td>2.389481</td>\n",
       "      <td>86271</td>\n",
       "    </tr>\n",
       "    <tr>\n",
       "      <th>75</th>\n",
       "      <td>264</td>\n",
       "      <td>2.379808</td>\n",
       "      <td>83357</td>\n",
       "    </tr>\n",
       "    <tr>\n",
       "      <th>76</th>\n",
       "      <td>229</td>\n",
       "      <td>2.375837</td>\n",
       "      <td>149341</td>\n",
       "    </tr>\n",
       "    <tr>\n",
       "      <th>77</th>\n",
       "      <td>75</td>\n",
       "      <td>2.366727</td>\n",
       "      <td>38005</td>\n",
       "    </tr>\n",
       "    <tr>\n",
       "      <th>78</th>\n",
       "      <td>90</td>\n",
       "      <td>2.355910</td>\n",
       "      <td>123386</td>\n",
       "    </tr>\n",
       "    <tr>\n",
       "      <th>79</th>\n",
       "      <td>142</td>\n",
       "      <td>2.354524</td>\n",
       "      <td>245232</td>\n",
       "    </tr>\n",
       "    <tr>\n",
       "      <th>80</th>\n",
       "      <td>233</td>\n",
       "      <td>2.333745</td>\n",
       "      <td>94096</td>\n",
       "    </tr>\n",
       "    <tr>\n",
       "      <th>81</th>\n",
       "      <td>74</td>\n",
       "      <td>2.321896</td>\n",
       "      <td>10040</td>\n",
       "    </tr>\n",
       "    <tr>\n",
       "      <th>85</th>\n",
       "      <td>107</td>\n",
       "      <td>2.304507</td>\n",
       "      <td>168377</td>\n",
       "    </tr>\n",
       "    <tr>\n",
       "      <th>87</th>\n",
       "      <td>125</td>\n",
       "      <td>2.289456</td>\n",
       "      <td>37133</td>\n",
       "    </tr>\n",
       "    <tr>\n",
       "      <th>88</th>\n",
       "      <td>79</td>\n",
       "      <td>2.289156</td>\n",
       "      <td>194232</td>\n",
       "    </tr>\n",
       "    <tr>\n",
       "      <th>89</th>\n",
       "      <td>170</td>\n",
       "      <td>2.284907</td>\n",
       "      <td>221891</td>\n",
       "    </tr>\n",
       "    <tr>\n",
       "      <th>90</th>\n",
       "      <td>151</td>\n",
       "      <td>2.284063</td>\n",
       "      <td>58086</td>\n",
       "    </tr>\n",
       "    <tr>\n",
       "      <th>92</th>\n",
       "      <td>164</td>\n",
       "      <td>2.234414</td>\n",
       "      <td>170900</td>\n",
       "    </tr>\n",
       "    <tr>\n",
       "      <th>95</th>\n",
       "      <td>4</td>\n",
       "      <td>2.223965</td>\n",
       "      <td>8031</td>\n",
       "    </tr>\n",
       "    <tr>\n",
       "      <th>96</th>\n",
       "      <td>209</td>\n",
       "      <td>2.223034</td>\n",
       "      <td>11157</td>\n",
       "    </tr>\n",
       "    <tr>\n",
       "      <th>99</th>\n",
       "      <td>162</td>\n",
       "      <td>2.216637</td>\n",
       "      <td>271131</td>\n",
       "    </tr>\n",
       "    <tr>\n",
       "      <th>100</th>\n",
       "      <td>231</td>\n",
       "      <td>2.215062</td>\n",
       "      <td>100808</td>\n",
       "    </tr>\n",
       "    <tr>\n",
       "      <th>101</th>\n",
       "      <td>224</td>\n",
       "      <td>2.214071</td>\n",
       "      <td>9209</td>\n",
       "    </tr>\n",
       "    <tr>\n",
       "      <th>102</th>\n",
       "      <td>249</td>\n",
       "      <td>2.212731</td>\n",
       "      <td>176318</td>\n",
       "    </tr>\n",
       "    <tr>\n",
       "      <th>103</th>\n",
       "      <td>148</td>\n",
       "      <td>2.210199</td>\n",
       "      <td>78397</td>\n",
       "    </tr>\n",
       "    <tr>\n",
       "      <th>104</th>\n",
       "      <td>43</td>\n",
       "      <td>2.200899</td>\n",
       "      <td>116246</td>\n",
       "    </tr>\n",
       "    <tr>\n",
       "      <th>106</th>\n",
       "      <td>13</td>\n",
       "      <td>2.193261</td>\n",
       "      <td>41013</td>\n",
       "    </tr>\n",
       "    <tr>\n",
       "      <th>107</th>\n",
       "      <td>114</td>\n",
       "      <td>2.192757</td>\n",
       "      <td>103185</td>\n",
       "    </tr>\n",
       "    <tr>\n",
       "      <th>108</th>\n",
       "      <td>234</td>\n",
       "      <td>2.191704</td>\n",
       "      <td>213448</td>\n",
       "    </tr>\n",
       "    <tr>\n",
       "      <th>109</th>\n",
       "      <td>163</td>\n",
       "      <td>2.186174</td>\n",
       "      <td>214328</td>\n",
       "    </tr>\n",
       "    <tr>\n",
       "      <th>110</th>\n",
       "      <td>24</td>\n",
       "      <td>2.178426</td>\n",
       "      <td>18376</td>\n",
       "    </tr>\n",
       "    <tr>\n",
       "      <th>111</th>\n",
       "      <td>230</td>\n",
       "      <td>2.173523</td>\n",
       "      <td>238564</td>\n",
       "    </tr>\n",
       "    <tr>\n",
       "      <th>112</th>\n",
       "      <td>87</td>\n",
       "      <td>2.168076</td>\n",
       "      <td>35371</td>\n",
       "    </tr>\n",
       "    <tr>\n",
       "      <th>113</th>\n",
       "      <td>88</td>\n",
       "      <td>2.163565</td>\n",
       "      <td>16862</td>\n",
       "    </tr>\n",
       "    <tr>\n",
       "      <th>114</th>\n",
       "      <td>113</td>\n",
       "      <td>2.162391</td>\n",
       "      <td>102864</td>\n",
       "    </tr>\n",
       "    <tr>\n",
       "      <th>116</th>\n",
       "      <td>246</td>\n",
       "      <td>2.148627</td>\n",
       "      <td>117720</td>\n",
       "    </tr>\n",
       "    <tr>\n",
       "      <th>119</th>\n",
       "      <td>45</td>\n",
       "      <td>2.137644</td>\n",
       "      <td>8239</td>\n",
       "    </tr>\n",
       "    <tr>\n",
       "      <th>121</th>\n",
       "      <td>100</td>\n",
       "      <td>2.132160</td>\n",
       "      <td>115108</td>\n",
       "    </tr>\n",
       "    <tr>\n",
       "      <th>122</th>\n",
       "      <td>211</td>\n",
       "      <td>2.131603</td>\n",
       "      <td>53403</td>\n",
       "    </tr>\n",
       "    <tr>\n",
       "      <th>123</th>\n",
       "      <td>166</td>\n",
       "      <td>2.130837</td>\n",
       "      <td>32576</td>\n",
       "    </tr>\n",
       "    <tr>\n",
       "      <th>124</th>\n",
       "      <td>68</td>\n",
       "      <td>2.124374</td>\n",
       "      <td>189033</td>\n",
       "    </tr>\n",
       "    <tr>\n",
       "      <th>126</th>\n",
       "      <td>144</td>\n",
       "      <td>2.123107</td>\n",
       "      <td>61307</td>\n",
       "    </tr>\n",
       "    <tr>\n",
       "      <th>132</th>\n",
       "      <td>161</td>\n",
       "      <td>2.081392</td>\n",
       "      <td>349004</td>\n",
       "    </tr>\n",
       "    <tr>\n",
       "      <th>134</th>\n",
       "      <td>158</td>\n",
       "      <td>2.070577</td>\n",
       "      <td>63748</td>\n",
       "    </tr>\n",
       "    <tr>\n",
       "      <th>135</th>\n",
       "      <td>41</td>\n",
       "      <td>2.049300</td>\n",
       "      <td>13288</td>\n",
       "    </tr>\n",
       "    <tr>\n",
       "      <th>136</th>\n",
       "      <td>261</td>\n",
       "      <td>2.048117</td>\n",
       "      <td>31109</td>\n",
       "    </tr>\n",
       "    <tr>\n",
       "      <th>147</th>\n",
       "      <td>186</td>\n",
       "      <td>1.960732</td>\n",
       "      <td>261123</td>\n",
       "    </tr>\n",
       "  </tbody>\n",
       "</table>\n",
       "</div>"
      ],
      "text/plain": [
       "     PULocationID  dollars_per_min  total_trips\n",
       "46            263         2.731886       154286\n",
       "47            138         2.725654       242189\n",
       "55             70         2.586280        32868\n",
       "56            141         2.574687       190324\n",
       "60            262         2.504176       101625\n",
       "61            239         2.487204       211514\n",
       "62            238         2.478959       148537\n",
       "63             50         2.477216        42300\n",
       "64            237         2.448523       352312\n",
       "65            236         2.435001       329612\n",
       "68             48         2.415518       195794\n",
       "69            143         2.414015        82351\n",
       "70            132         2.401894       322593\n",
       "73            140         2.391793       157485\n",
       "74            137         2.389481        86271\n",
       "75            264         2.379808        83357\n",
       "76            229         2.375837       149341\n",
       "77             75         2.366727        38005\n",
       "78             90         2.355910       123386\n",
       "79            142         2.354524       245232\n",
       "80            233         2.333745        94096\n",
       "81             74         2.321896        10040\n",
       "85            107         2.304507       168377\n",
       "87            125         2.289456        37133\n",
       "88             79         2.289156       194232\n",
       "89            170         2.284907       221891\n",
       "90            151         2.284063        58086\n",
       "92            164         2.234414       170900\n",
       "95              4         2.223965         8031\n",
       "96            209         2.223034        11157\n",
       "99            162         2.216637       271131\n",
       "100           231         2.215062       100808\n",
       "101           224         2.214071         9209\n",
       "102           249         2.212731       176318\n",
       "103           148         2.210199        78397\n",
       "104            43         2.200899       116246\n",
       "106            13         2.193261        41013\n",
       "107           114         2.192757       103185\n",
       "108           234         2.191704       213448\n",
       "109           163         2.186174       214328\n",
       "110            24         2.178426        18376\n",
       "111           230         2.173523       238564\n",
       "112            87         2.168076        35371\n",
       "113            88         2.163565        16862\n",
       "114           113         2.162391       102864\n",
       "116           246         2.148627       117720\n",
       "119            45         2.137644         8239\n",
       "121           100         2.132160       115108\n",
       "122           211         2.131603        53403\n",
       "123           166         2.130837        32576\n",
       "124            68         2.124374       189033\n",
       "126           144         2.123107        61307\n",
       "132           161         2.081392       349004\n",
       "134           158         2.070577        63748\n",
       "135            41         2.049300        13288\n",
       "136           261         2.048117        31109\n",
       "147           186         1.960732       261123"
      ]
     },
     "execution_count": 102,
     "metadata": {},
     "output_type": "execute_result"
    }
   ],
   "source": [
    "df_sub = df[df['total_trips'] > 8000]\n",
    "df_sub"
   ]
  },
  {
   "cell_type": "code",
   "execution_count": 103,
   "metadata": {},
   "outputs": [
    {
     "data": {
      "text/plain": [
       "(array([16.,  4.,  9.,  4.,  7.,  7.,  4.,  2.,  0.,  4.]),\n",
       " array([  8031. ,  42459.1,  76887.2, 111315.3, 145743.4, 180171.5,\n",
       "        214599.6, 249027.7, 283455.8, 317883.9, 352312. ]),\n",
       " <BarContainer object of 10 artists>)"
      ]
     },
     "execution_count": 103,
     "metadata": {},
     "output_type": "execute_result"
    },
    {
     "data": {
      "image/png": "[encoded data removed]",
      "text/plain": [
       "<Figure size 640x480 with 1 Axes>"
      ]
     },
     "metadata": {},
     "output_type": "display_data"
    }
   ],
   "source": [
    "plt.hist(df_sub['dollars_per_min'])"
   ]
  },
  {
   "cell_type": "code",
   "execution_count": 104,
   "metadata": {},
   "outputs": [
    {
     "name": "stderr",
     "output_type": "stream",
     "text": [
      "                                                                                \r"
     ]
    },
    {
     "data": {
      "text/html": [
       "<table border='1'>\n",
       "<tr><th>tpep_pickup_datetime</th><th>tpep_dropoff_datetime</th><th>(tpep_dropoff_datetime - tpep_pickup_datetime)</th><th>timestampdiff(hour, tpep_pickup_datetime, tpep_dropoff_datetime)</th><th>timestampdiff(minute, tpep_pickup_datetime, tpep_dropoff_datetime)</th></tr>\n",
       "<tr><td>2023-01-23 11:21:51</td><td>2023-01-30 10:31:02</td><td>INTERVAL &#x27;6 23:09...</td><td>167</td><td>10029</td></tr>\n",
       "<tr><td>2023-02-23 14:59:05</td><td>2023-02-28 12:32:42</td><td>INTERVAL &#x27;4 21:33...</td><td>117</td><td>7053</td></tr>\n",
       "<tr><td>2023-01-16 10:20:33</td><td>2023-01-20 17:19:57</td><td>INTERVAL &#x27;4 06:59...</td><td>102</td><td>6179</td></tr>\n",
       "<tr><td>2023-03-09 13:31:29</td><td>2023-03-13 11:29:12</td><td>INTERVAL &#x27;3 21:57...</td><td>93</td><td>5637</td></tr>\n",
       "<tr><td>2023-03-24 19:30:30</td><td>2023-03-28 11:34:03</td><td>INTERVAL &#x27;3 16:03...</td><td>88</td><td>5283</td></tr>\n",
       "<tr><td>2023-03-13 21:23:58</td><td>2023-03-17 10:49:11</td><td>INTERVAL &#x27;3 13:25...</td><td>85</td><td>5125</td></tr>\n",
       "<tr><td>2023-03-24 08:22:33</td><td>2023-03-27 13:08:12</td><td>INTERVAL &#x27;3 04:45...</td><td>76</td><td>4605</td></tr>\n",
       "<tr><td>2023-03-03 12:53:19</td><td>2023-03-06 11:41:21</td><td>INTERVAL &#x27;2 22:48...</td><td>70</td><td>4248</td></tr>\n",
       "<tr><td>2023-01-27 12:10:55</td><td>2023-01-30 10:31:14</td><td>INTERVAL &#x27;2 22:20...</td><td>70</td><td>4220</td></tr>\n",
       "<tr><td>2023-02-23 17:46:36</td><td>2023-02-26 14:07:08</td><td>INTERVAL &#x27;2 20:20...</td><td>68</td><td>4100</td></tr>\n",
       "</table>\n"
      ],
      "text/plain": [
       "+--------------------+---------------------+----------------------------------------------+----------------------------------------------------------------+------------------------------------------------------------------+\n",
       "|tpep_pickup_datetime|tpep_dropoff_datetime|(tpep_dropoff_datetime - tpep_pickup_datetime)|timestampdiff(hour, tpep_pickup_datetime, tpep_dropoff_datetime)|timestampdiff(minute, tpep_pickup_datetime, tpep_dropoff_datetime)|\n",
       "+--------------------+---------------------+----------------------------------------------+----------------------------------------------------------------+------------------------------------------------------------------+\n",
       "| 2023-01-23 11:21:51|  2023-01-30 10:31:02|                          INTERVAL '6 23:09...|                                                             167|                                                             10029|\n",
       "| 2023-02-23 14:59:05|  2023-02-28 12:32:42|                          INTERVAL '4 21:33...|                                                             117|                                                              7053|\n",
       "| 2023-01-16 10:20:33|  2023-01-20 17:19:57|                          INTERVAL '4 06:59...|                                                             102|                                                              6179|\n",
       "| 2023-03-09 13:31:29|  2023-03-13 11:29:12|                          INTERVAL '3 21:57...|                                                              93|                                                              5637|\n",
       "| 2023-03-24 19:30:30|  2023-03-28 11:34:03|                          INTERVAL '3 16:03...|                                                              88|                                                              5283|\n",
       "| 2023-03-13 21:23:58|  2023-03-17 10:49:11|                          INTERVAL '3 13:25...|                                                              85|                                                              5125|\n",
       "| 2023-03-24 08:22:33|  2023-03-27 13:08:12|                          INTERVAL '3 04:45...|                                                              76|                                                              4605|\n",
       "| 2023-03-03 12:53:19|  2023-03-06 11:41:21|                          INTERVAL '2 22:48...|                                                              70|                                                              4248|\n",
       "| 2023-01-27 12:10:55|  2023-01-30 10:31:14|                          INTERVAL '2 22:20...|                                                              70|                                                              4220|\n",
       "| 2023-02-23 17:46:36|  2023-02-26 14:07:08|                          INTERVAL '2 20:20...|                                                              68|                                                              4100|\n",
       "+--------------------+---------------------+----------------------------------------------+----------------------------------------------------------------+------------------------------------------------------------------+"
      ]
     },
     "execution_count": 104,
     "metadata": {},
     "output_type": "execute_result"
    }
   ],
   "source": [
    "spark.sql(\"\"\"\n",
    "select tpep_pickup_datetime, tpep_dropoff_datetime, tpep_dropoff_datetime - tpep_pickup_datetime, datediff(hour, tpep_pickup_datetime, tpep_dropoff_datetime), datediff(minute, tpep_pickup_datetime, tpep_dropoff_datetime)\n",
    "from taxi\n",
    "order by 3 desc\n",
    "limit 10\n",
    "\"\"\")"
   ]
  }
 ],
 "metadata": {
  "kernelspec": {
   "display_name": "venv",
   "language": "python",
   "name": "python3"
  },
  "language_info": {
   "codemirror_mode": {
    "name": "ipython",
    "version": 3
   },
   "file_extension": ".py",
   "mimetype": "text/x-python",
   "name": "python",
   "nbconvert_exporter": "python",
   "pygments_lexer": "ipython3",
   "version": "3.10.6"
  },
  "orig_nbformat": 4
 },
 "nbformat": 4,
 "nbformat_minor": 2
}
